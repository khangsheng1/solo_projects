{
 "cells": [
  {
   "cell_type": "code",
   "execution_count": 7,
   "metadata": {},
   "outputs": [],
   "source": [
    "# import pyttsx3\n",
    "# engine = pyttsx3.init() # object creation\n",
    "\n",
    "# \"\"\" RATE\"\"\"\n",
    "# engine.setProperty('rate', 125)     # setting up new voice rate\n",
    "# rate = engine.getProperty('rate')   # getting details of current speaking rate\n",
    "# print (rate)                        #printing current voice rate\n",
    "\n",
    "\n",
    "# \"\"\"VOLUME\"\"\"\n",
    "# volume = engine.getProperty('volume')   #getting to know current volume level (min=0 and max=1)\n",
    "# print (volume)                          #printing current volume level\n",
    "# engine.setProperty('volume',1.0)    # setting up volume level  between 0 and 1\n",
    "\n",
    "# \"\"\"VOICE\"\"\"\n",
    "# voices = engine.getProperty('voices')       #getting details of current voice\n",
    "# #engine.setProperty('voice', voices[0].id)  #changing index, changes voices. o for male\n",
    "# engine.setProperty('voice', voices[1].id)   #changing index, changes voices. 1 for female\n",
    "\n",
    "# engine.say(\"Hello World!\")\n",
    "# engine.say('My current speaking rate is ' + str(rate))\n",
    "# engine.runAndWait()\n",
    "# engine.stop()\n",
    "\n",
    "# \"\"\"Saving Voice to a file\"\"\"\n",
    "# # On linux make sure that 'espeak' and 'ffmpeg' are installed\n",
    "# engine.save_to_file('Hello World', 'test.mp3')\n",
    "# engine.runAndWait()"
   ]
  },
  {
   "cell_type": "code",
   "execution_count": 8,
   "metadata": {},
   "outputs": [],
   "source": [
    "# import ebooklib\n",
    "# from ebooklib import epub\n",
    "# from bs4 import BeautifulSoup\n",
    "# import warnings\n",
    "\n",
    "# # Suppress specific warnings from ebooklib\n",
    "# warnings.filterwarnings('ignore', category=UserWarning, module='ebooklib')\n",
    "# warnings.filterwarnings('ignore', category=FutureWarning, module='ebooklib')\n",
    "\n",
    "# def epub_to_text(epub_path, output_path):\n",
    "#     book = epub.read_epub(epub_path)\n",
    "#     with open(output_path, 'w', encoding='utf-8') as f:\n",
    "#         for item in book.get_items_of_type(ebooklib.ITEM_DOCUMENT):\n",
    "#             content = item.get_content()\n",
    "#             soup = BeautifulSoup(content, 'html.parser')\n",
    "#             f.write(soup.get_text())\n",
    "\n",
    "# # Example usage\n",
    "# epub_to_text(r\"C:\\Users\\khang\\Desktop\\DS_Work\\tts\\Short stories\\the dark forest.epub\", r\"C:\\Users\\khang\\Desktop\\DS_Work\\tts\\Short stories\\The Dark Forest.txt\")"
   ]
  },
  {
   "cell_type": "code",
   "execution_count": 9,
   "metadata": {},
   "outputs": [],
   "source": [
    "import edge_tts\n",
    "\n",
    "async def fetch_voices():\n",
    "    # Create an instance of VoicesManager to get available voices\n",
    "    voices_manager = await edge_tts.VoicesManager.create()\n",
    "    voices = voices_manager.voices\n",
    "\n",
    "    # Store the voices in a list\n",
    "    voices_list = [[voice['Name'], voice['Locale'], voice['Gender']] for voice in voices]\n",
    "    return voices_list\n",
    "\n",
    "# Directly use await in environments that support it, like Jupyter Notebook\n",
    "voices_list_output = await fetch_voices()\n",
    "\n",
    "# # Print the voices list\n",
    "# for voice in voices_list_output:\n",
    "#     print(f\"Name: {voice[0]}, Locale: {voice[1]}, Gender: {voice[2]}\")\n"
   ]
  }
 ],
 "metadata": {
  "kernelspec": {
   "display_name": "Python 3",
   "language": "python",
   "name": "python3"
  },
  "language_info": {
   "codemirror_mode": {
    "name": "ipython",
    "version": 3
   },
   "file_extension": ".py",
   "mimetype": "text/x-python",
   "name": "python",
   "nbconvert_exporter": "python",
   "pygments_lexer": "ipython3",
   "version": "3.10.11"
  }
 },
 "nbformat": 4,
 "nbformat_minor": 2
}
