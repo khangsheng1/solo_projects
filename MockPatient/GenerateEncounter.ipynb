{
 "cells": [
  {
   "cell_type": "code",
   "execution_count": 2,
   "metadata": {},
   "outputs": [],
   "source": [
    "import mysql.connector"
   ]
  },
  {
   "cell_type": "code",
   "execution_count": 9,
   "metadata": {},
   "outputs": [],
   "source": [
    "def fetch_patient_info():\n",
    "    # Establish connection to MySQL Database\n",
    "    connection = mysql.connector.connect(\n",
    "        host=\"localhost\",\n",
    "        user=\"root\",\n",
    "        password= 'Avengers2@', #input(\"What is your password?: \"),\n",
    "        database=\"mock_patient_project\"\n",
    "    )\n",
    "    print(\"Connected to MySQL Database\")\n",
    "\n",
    "    # Create cursor\n",
    "    cursor = connection.cursor()\n",
    "\n",
    "    try:\n",
    "        # Get total number of entries in patient_data table\n",
    "        cursor.execute(\"SELECT COUNT(*) FROM patient_data\")\n",
    "        total_entries = cursor.fetchone()[0]\n",
    "        print(\"Total Entries in Patient Data Table:\", total_entries)\n",
    "\n",
    "        # Query random medical record number from patient_data table\n",
    "        query_medical_record_data = \"SELECT MedicalRecordNumber FROM patient_data ORDER BY RAND() LIMIT 1\"\n",
    "        cursor.execute(query_medical_record_data)\n",
    "        medical_record_number = cursor.fetchone()[0]\n",
    "        print(\"Medical Record Number:\", medical_record_number)\n",
    "\n",
    "        # Query patient info using the random medical record number\n",
    "        query_patient_data = f\"SELECT * FROM patient_data WHERE MedicalRecordNumber='{medical_record_number}'\"\n",
    "        cursor.execute(query_patient_data)\n",
    "        patient_info = cursor.fetchone()\n",
    "\n",
    "        # Strip whitespace from the medical record number\n",
    "        medical_record_number = medical_record_number.strip()\n",
    "\n",
    "        # Query credit card info using the random medical record number\n",
    "        query_credit_card_data = f\"SELECT * FROM credit_card_data WHERE MedicalRecordNumber='{medical_record_number}'\"\n",
    "        cursor.execute(query_credit_card_data)\n",
    "        credit_card_info = cursor.fetchone()\n",
    "\n",
    "        # Query patient address using the random medical record number\n",
    "        query_patient_address = f\"SELECT * FROM patient_address WHERE MedicalRecordNumber='{medical_record_number}'\"\n",
    "        cursor.execute(query_patient_address)\n",
    "        patient_address = cursor.fetchone()\n",
    "\n",
    "        # Print the results\n",
    "        print(\"Patient Info:\", patient_info)\n",
    "        print(\"Credit Card Info:\", credit_card_info)\n",
    "        print(\"Patient Address:\", patient_address)\n",
    "\n",
    "    finally:\n",
    "        # Close cursor and connection\n",
    "        cursor.close()\n",
    "        connection.close()\n",
    "        print(\"MySQL connection is closed\")\n"
   ]
  },
  {
   "cell_type": "code",
   "execution_count": 11,
   "metadata": {},
   "outputs": [
    {
     "name": "stdout",
     "output_type": "stream",
     "text": [
      "Connected to MySQL Database\n",
      "Total Entries in Patient Data Table: 100000\n",
      "Medical Record Number: E147635660843\n",
      "Patient Info: ('Anthony', 'Brown', 'Anthony Brown', datetime.datetime(1943, 8, 6, 0, 0), 57, 'Male', 'E147635660843\\r')\n",
      "Credit Card Info: ('Anthony Brown', 'E147635660843', '4252736351879990', '12/33', 961)\n",
      "Patient Address: ('Anthony Brown', 'E147635660843', '1891 Griffin Islands Suite 364', 'Hindsville', 'AR', 72738)\n",
      "MySQL connection is closed\n"
     ]
    }
   ],
   "source": [
    "# Call the function to execute\n",
    "fetch_patient_info()"
   ]
  },
  {
   "cell_type": "code",
   "execution_count": 8,
   "metadata": {},
   "outputs": [
    {
     "name": "stdout",
     "output_type": "stream",
     "text": [
      "Connected to MySQL Database\n",
      "Total Entries in Patient Data Table: 100000\n"
     ]
    }
   ],
   "source": [
    "\n",
    "# Establish connection to MySQL Database\n",
    "connection = mysql.connector.connect(\n",
    "    host=\"localhost\",\n",
    "    user=\"root\",\n",
    "    password= 'Avengers2@', #input(\"What is your password?: \"),\n",
    "    database=\"mock_patient_project\"\n",
    ")\n",
    "print(\"Connected to MySQL Database\")\n",
    "# Create cursor\n",
    "cursor = connection.cursor()\n",
    "\n",
    "# Get total number of entries in patient_data table\n",
    "cursor.execute(\"SELECT COUNT(*) FROM patient_data\")\n",
    "total_entries = cursor.fetchone()[0]\n",
    "print(\"Total Entries in Patient Data Table:\", total_entries)"
   ]
  },
  {
   "cell_type": "code",
   "execution_count": 1,
   "metadata": {},
   "outputs": [
    {
     "name": "stdout",
     "output_type": "stream",
     "text": [
      "Connected to MySQL Database\n",
      "Total Entries in Patient Data Table: 100000\n",
      "Number of Entries to Fetch: 1\n",
      "Percentage of Fetched Patient Info: 100.0\n",
      "Percentage of Fetched Credit Card Info: 100.0\n",
      "Percentage of Fetched Patient Address: 100.0\n",
      "MySQL connection is closed\n"
     ]
    }
   ],
   "source": [
    "import mysql.connector\n",
    "import random\n",
    "\n",
    "def fetch_patient_info():\n",
    "    # Establish connection to MySQL Database\n",
    "    connection = mysql.connector.connect(\n",
    "        host=\"localhost\",\n",
    "        user=\"root\",\n",
    "        password= 'Avengers2@', #input(\"What is your password?: \"),\n",
    "        database=\"mock_patient_project\"\n",
    "    )\n",
    "    print(\"Connected to MySQL Database\")\n",
    "\n",
    "    # Create cursor\n",
    "    cursor = connection.cursor()\n",
    "\n",
    "    try:\n",
    "        # Get total number of entries in patient_data table\n",
    "        cursor.execute(\"SELECT COUNT(*) FROM patient_data\")\n",
    "        total_entries = cursor.fetchone()[0]\n",
    "        print(\"Total Entries in Patient Data Table:\", total_entries)\n",
    "\n",
    "        # Generate a random number of entries to fetch (let's say 10%)\n",
    "        num_entries_to_fetch = int(total_entries * 0.00001)  # 10% of total entries\n",
    "        print(\"Number of Entries to Fetch:\", num_entries_to_fetch)\n",
    "\n",
    "        # Query random medical record numbers from patient_data table\n",
    "        query_medical_record_data = f\"SELECT MedicalRecordNumber FROM patient_data ORDER BY RAND() LIMIT {num_entries_to_fetch}\"\n",
    "        cursor.execute(query_medical_record_data)\n",
    "        medical_record_numbers = [record[0] for record in cursor.fetchall()]\n",
    "\n",
    "        # Initialize counters for fetched entries\n",
    "        num_fetched_patient_info = 0\n",
    "        num_fetched_credit_card_info = 0\n",
    "        num_fetched_patient_address = 0\n",
    "\n",
    "        # Loop through each random medical record number\n",
    "        for medical_record_number in medical_record_numbers:\n",
    "            # Query patient info using the random medical record number\n",
    "            query_patient_data = f\"SELECT * FROM patient_data WHERE MedicalRecordNumber='{medical_record_number}'\"\n",
    "            cursor.execute(query_patient_data)\n",
    "            patient_info = cursor.fetchone()\n",
    "            if patient_info:\n",
    "                num_fetched_patient_info += 1\n",
    "\n",
    "                # Strip whitespace from the medical record number\n",
    "                medical_record_number = medical_record_number.strip()\n",
    "\n",
    "                # Query credit card info using the random medical record number\n",
    "                query_credit_card_data = f\"SELECT * FROM credit_card_data WHERE MedicalRecordNumber='{medical_record_number}'\"\n",
    "                cursor.execute(query_credit_card_data)\n",
    "                credit_card_info = cursor.fetchone()\n",
    "                if credit_card_info:\n",
    "                    num_fetched_credit_card_info += 1\n",
    "\n",
    "                # Query patient address using the random medical record number\n",
    "                query_patient_address = f\"SELECT * FROM patient_address WHERE MedicalRecordNumber='{medical_record_number}'\"\n",
    "                cursor.execute(query_patient_address)\n",
    "                patient_address = cursor.fetchone()\n",
    "                if patient_address:\n",
    "                    num_fetched_patient_address += 1\n",
    "\n",
    "        # Calculate percentages\n",
    "        percent_patient_info = (num_fetched_patient_info / num_entries_to_fetch) * 100\n",
    "        percent_credit_card_info = (num_fetched_credit_card_info / num_entries_to_fetch) * 100\n",
    "        percent_patient_address = (num_fetched_patient_address / num_entries_to_fetch) * 100\n",
    "\n",
    "        # Print the results\n",
    "        print(\"Percentage of Fetched Patient Info:\", percent_patient_info)\n",
    "        print(\"Percentage of Fetched Credit Card Info:\", percent_credit_card_info)\n",
    "        print(\"Percentage of Fetched Patient Address:\", percent_patient_address)\n",
    "\n",
    "    finally:\n",
    "        # Close cursor and connection\n",
    "        cursor.close()\n",
    "        connection.close()\n",
    "        print(\"MySQL connection is closed\")\n",
    "\n",
    "# Call the function to execute\n",
    "fetch_patient_info()\n"
   ]
  }
 ],
 "metadata": {
  "kernelspec": {
   "display_name": "Python 3",
   "language": "python",
   "name": "python3"
  },
  "language_info": {
   "codemirror_mode": {
    "name": "ipython",
    "version": 3
   },
   "file_extension": ".py",
   "mimetype": "text/x-python",
   "name": "python",
   "nbconvert_exporter": "python",
   "pygments_lexer": "ipython3",
   "version": "3.10.11"
  }
 },
 "nbformat": 4,
 "nbformat_minor": 2
}
