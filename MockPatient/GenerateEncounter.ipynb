{
 "cells": [
  {
   "cell_type": "code",
   "execution_count": null,
   "metadata": {},
   "outputs": [],
   "source": [
    "from faker import Faker\n",
    "import random\n",
    "from datetime import datetime, timedelta\n",
    "import numpy as np\n",
    "\n",
    "# Function to generate random chief complaint\n",
    "def generate_chief_complaint(age):\n",
    "    chief_complaints = {\n",
    "        'Child': ['Fever', 'Cough', 'Earache', 'Sore throat'],\n",
    "        'Adult': ['Chest pain', 'Shortness of breath', 'Abdominal pain', 'Headache']\n",
    "    }\n",
    "    if age < 18:\n",
    "        return random.choice(chief_complaints['Child'])\n",
    "    else:\n",
    "        return random.choice(chief_complaints['Adult'])\n",
    "\n",
    "# Function to generate random patient encounters\n",
    "def generate_patient_encounters(patient_data):\n",
    "    encounters = []\n",
    "    for patient in patient_data:\n",
    "        num_encounters = random.randint(1, 5)  # Generate random number of encounters\n",
    "        for _ in range(num_encounters):\n",
    "            dob = datetime.strptime(patient['DateOfBirth'], '%Y-%m-%d')\n",
    "            start_date = dob + timedelta(days=365 * 2)  # 2 years after birth\n",
    "            end_date = datetime.today()\n",
    "            encounter_date = fake.date_time_between_dates(datetime_start=start_date, datetime_end=end_date)\n",
    "            chief_complaint = generate_chief_complaint(patient['Age'])\n",
    "            encounter = {\n",
    "                'PatientName': patient['Name'],\n",
    "                'MedicalRecordNumber': patient['MedicalRecordNumber'],\n",
    "                'ChiefComplaint': chief_complaint,\n",
    "                'EncounterDate': encounter_date.replace(tzinfo=None).strftime('%Y-%m-%d %H:%M:%S')\n",
    "            }\n",
    "            encounters.append(encounter)\n",
    "    return encounters\n",
    "\n",
    "encounters_data = generate_patient_encounters(patient_data)\n",
    "\n",
    "# Printing generated encounters data for demonstration\n",
    "print(\"Encounters Data:\")\n",
    "for encounter in encounters_data:\n",
    "    print(encounter)"
   ]
  }
 ],
 "metadata": {
  "language_info": {
   "name": "python"
  }
 },
 "nbformat": 4,
 "nbformat_minor": 2
}
