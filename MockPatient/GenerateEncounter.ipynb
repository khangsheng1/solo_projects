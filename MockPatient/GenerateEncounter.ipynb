{
 "cells": [
  {
   "cell_type": "code",
   "execution_count": 1,
   "metadata": {},
   "outputs": [
    {
     "name": "stdout",
     "output_type": "stream",
     "text": [
      "Connected to MySQL Database\n",
      "Error connecting to MySQL Database: 1146 (42S02): Table 'mysql.patient_data' doesn't exist\n",
      "MySQL connection is closed\n"
     ]
    }
   ],
   "source": [
    "import mysql.connector\n",
    "import random\n",
    "\n",
    "# Connect to MySQL Database\n",
    "try:\n",
    "\n",
    "    connection = mysql.connector.connect(\n",
    "        table_name = \"patient_data\",\n",
    "        host = input(\"Enter the host (default is 'localhost'): \") or \"localhost\",\n",
    "        user= input(\"Enter username (default is 'root'): \") or \"root\",\n",
    "        password = input(\"Enter password: \"),\n",
    "        database = 'mysql'\n",
    "    )\n",
    "    if connection.is_connected():\n",
    "        print(\"Connected to MySQL Database\")\n",
    "\n",
    "        # Create cursor\n",
    "        cursor = connection.cursor()\n",
    "\n",
    "        # Query random medical record number from patient_data table\n",
    "        query_patient_data = \"SELECT MedicalRecordNumber FROM patient_data ORDER BY RAND() LIMIT 1\"\n",
    "        cursor.execute(query_patient_data)\n",
    "        medical_record_number = cursor.fetchone()[0]\n",
    "\n",
    "        # Query credit card info using the random medical record number\n",
    "        query_credit_card_data = f\"SELECT * FROM credit_card_data WHERE MedicalRecordNumber = '{medical_record_number}'\"\n",
    "        cursor.execute(query_credit_card_data)\n",
    "        credit_card_info = cursor.fetchone()\n",
    "\n",
    "        # Query patient address using the random medical record number\n",
    "        query_patient_address = f\"SELECT * FROM patient_address WHERE MedicalRecordNumber = '{medical_record_number}'\"\n",
    "        cursor.execute(query_patient_address)\n",
    "        patient_address = cursor.fetchone()\n",
    "\n",
    "        # Print the results\n",
    "        print(\"Medical Record Number:\", medical_record_number)\n",
    "        print(\"Credit Card Info:\", credit_card_info)\n",
    "        print(\"Patient Address:\", patient_address)\n",
    "\n",
    "except mysql.connector.Error as e:\n",
    "    print(\"Error connecting to MySQL Database:\", e)\n",
    "\n",
    "finally:\n",
    "    # Close connection\n",
    "    if 'connection' in locals():\n",
    "        if connection.is_connected():\n",
    "            cursor.close()\n",
    "            connection.close()\n",
    "            print(\"MySQL connection is closed\")\n"
   ]
  }
 ],
 "metadata": {
  "kernelspec": {
   "display_name": "Python 3",
   "language": "python",
   "name": "python3"
  },
  "language_info": {
   "codemirror_mode": {
    "name": "ipython",
    "version": 3
   },
   "file_extension": ".py",
   "mimetype": "text/x-python",
   "name": "python",
   "nbconvert_exporter": "python",
   "pygments_lexer": "ipython3",
   "version": "3.10.11"
  }
 },
 "nbformat": 4,
 "nbformat_minor": 2
}
