{
 "cells": [
  {
   "cell_type": "code",
   "execution_count": null,
   "metadata": {},
   "outputs": [],
   "source": [
    "import mysql.connector\n",
    "import pandas as pd\n",
    "\n",
    "def fetch_patient_info():\n",
    "    # Establish connection to MySQL Database\n",
    "    connection = mysql.connector.connect(\n",
    "        host=\"localhost\",\n",
    "        user=\"root\",\n",
    "        password=\"Avengers2@\",\n",
    "        database=\"mock_patient_project\"\n",
    "    )\n",
    "    # print(\"Connected to MySQL Database\")\n",
    "\n",
    "    # Create cursor\n",
    "    cursor = connection.cursor()\n",
    "\n",
    "    try:\n",
    "        # Query random medical record number from patient_data table\n",
    "        query_medical_record_data = \"SELECT * FROM patient_data ORDER BY RAND() LIMIT 1\"\n",
    "        cursor.execute(query_medical_record_data)\n",
    "        medical_record_data = cursor.fetchone()\n",
    "\n",
    "        # Get column names from cursor description\n",
    "        column_names = [description[0] for description in cursor.description]\n",
    "\n",
    "        # Construct DataFrame with appropriate column labels\n",
    "        patient_info_df = pd.DataFrame([medical_record_data], columns=column_names)\n",
    "\n",
    "        # Print the DataFrame\n",
    "        # print(\"Patient Info DataFrame:\")\n",
    "        # print(patient_info_df)\n",
    "\n",
    "    finally:\n",
    "        # Close cursor and connection\n",
    "        cursor.close()\n",
    "        connection.close()\n",
    "        # print(\"MySQL connection is closed\")\n",
    "\n",
    "    return patient_info_df"
   ]
  },
  {
   "cell_type": "code",
   "execution_count": null,
   "metadata": {},
   "outputs": [
    {
     "name": "stdout",
     "output_type": "stream",
     "text": [
      "Generated Percentage: 0.018552111099258882\n"
     ]
    }
   ],
   "source": [
    "import numpy as np\n",
    "\n",
    "def generate_percentage():\n",
    "    # Generate a random number from a normal distribution centered around 0.15\n",
    "    # with a standard deviation that controls the spread of the bell curve\n",
    "    mean = 0.015\n",
    "    std_dev = 0.005  # Adjust this value to control the spread of the bell curve\n",
    "    percentage = np.random.normal(mean, std_dev)\n",
    "    \n",
    "    # Ensure the generated percentage falls within the desired range [0.1, 0.2]\n",
    "    percentage = max(0.01, min(0.02, percentage))\n",
    "    \n",
    "    return percentage\n",
    "\n",
    "# Call the function to generate the percentage\n",
    "percentage_to_fetch = generate_percentage()\n",
    "\n",
    "print(\"Generated Percentage:\", percentage_to_fetch)\n"
   ]
  },
  {
   "cell_type": "code",
   "execution_count": null,
   "metadata": {},
   "outputs": [
    {
     "name": "stdout",
     "output_type": "stream",
     "text": [
      "Total Records in Patient Data Table: 100000\n"
     ]
    }
   ],
   "source": [
    "# Set the percentage of records to fetch\n",
    "percentage_to_fetch = generate_percentage()  # Change this percentage as needed\n",
    "num_iterations = 5  # Number of iterations\n",
    "\n",
    "# Establish connection to MySQL Database\n",
    "connection = mysql.connector.connect(\n",
    "    host=\"localhost\",\n",
    "    user=\"root\",\n",
    "    password=\"Avengers2@\",\n",
    "    database=\"mock_patient_project\"\n",
    ")\n",
    "cursor = connection.cursor()\n",
    "\n",
    "# Get total number of records in patient_data table\n",
    "cursor.execute(\"SELECT COUNT(*) FROM patient_data\")\n",
    "total_records = cursor.fetchone()[0]\n",
    "print(\"Total Records in Patient Data Table:\", total_records)\n",
    "\n",
    "# Close cursor and connection\n",
    "cursor.close()\n",
    "connection.close()\n",
    "\n",
    "# Calculate the number of records to fetch based on the percentage\n",
    "num_records_to_fetch = int(total_records * (percentage_to_fetch / 100))\n",
    "\n",
    "# Create empty list to store patient info dataframes\n",
    "patient_info_df_1 = []\n",
    "\n",
    "# Iterate over the number of iterations\n",
    "for i in range(num_records_to_fetch):\n",
    "    # Call the function to fetch patient info\n",
    "    patient_info_df = fetch_patient_info()\n",
    "    \n",
    "    # Append the returned dataframe to the list\n",
    "    patient_info_df_1.append(patient_info_df.head())\n",
    "\n",
    "# Concatenate all dataframes in patient_info_dfs into a single dataframe\n",
    "patient_info_dfs = pd.concat(patient_info_df_1, ignore_index=True)"
   ]
  },
  {
   "cell_type": "code",
   "execution_count": null,
   "metadata": {},
   "outputs": [],
   "source": [
    "def upload_to_mysql(dataframe, table_name):\n",
    "    # Establish connection to MySQL Database\n",
    "    connection = mysql.connector.connect(\n",
    "        host=\"localhost\",\n",
    "        user=\"root\",\n",
    "        password=\"Avengers2@\",\n",
    "        database=\"mock_patient_project\"\n",
    "    )\n",
    "    cursor = connection.cursor()\n",
    "\n",
    "    try:\n",
    "        # Iterate over each row in the DataFrame and insert it into the MySQL table\n",
    "        for index, row in dataframe.iterrows():\n",
    "            # Prepare column names string\n",
    "            columns_str = ', '.join(dataframe.columns)\n",
    "\n",
    "            # Prepare placeholders for data values\n",
    "            placeholders = ', '.join(['%s'] * len(row))\n",
    "\n",
    "            # Construct SQL query for row insertion\n",
    "            sql = f\"INSERT INTO {table_name} ({columns_str}) VALUES ({placeholders})\"\n",
    "\n",
    "            # Execute SQL query with row data\n",
    "            cursor.execute(sql, tuple(row))\n",
    "\n",
    "        # Commit changes\n",
    "        connection.commit()\n",
    "\n",
    "    except Exception as e:\n",
    "        print(\"Error:\", e)\n",
    "        connection.rollback()\n",
    "\n",
    "    finally:\n",
    "        # Close cursor and connection\n",
    "        cursor.close()\n",
    "        connection.close()\n"
   ]
  },
  {
   "cell_type": "code",
   "execution_count": null,
   "metadata": {},
   "outputs": [],
   "source": [
    "upload_to_mysql(patient_info_dfs, 'encounters')\n"
   ]
  }
 ],
 "metadata": {
  "kernelspec": {
   "display_name": "Python 3",
   "language": "python",
   "name": "python3"
  },
  "language_info": {
   "codemirror_mode": {
    "name": "ipython",
    "version": 3
   },
   "file_extension": ".py",
   "mimetype": "text/x-python",
   "name": "python",
   "nbconvert_exporter": "python",
   "pygments_lexer": "ipython3",
   "version": "3.10.11"
  }
 },
 "nbformat": 4,
 "nbformat_minor": 2
}
