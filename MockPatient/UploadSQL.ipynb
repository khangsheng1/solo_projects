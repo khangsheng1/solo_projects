{
 "cells": [
  {
   "cell_type": "code",
   "execution_count": 4,
   "metadata": {},
   "outputs": [],
   "source": [
    "import tkinter as tk\n",
    "from tkinter import filedialog\n",
    "\n",
    "def select_file():\n",
    "    #Opens a file selection dialog and returns the selected file path and filename.\n",
    "    \n",
    "    root = tk.Tk()\n",
    "    root.withdraw()  # Hide the main window\n",
    "    file_path = filedialog.askopenfilename()\n",
    "    if file_path:\n",
    "        # Extract filename from path\n",
    "        filename = os.path.basename(file_path)\n",
    "        return file_path, filename\n",
    "    else:\n",
    "        return None, None  # Return None for both path and filename if no file selected\n"
   ]
  },
  {
   "cell_type": "code",
   "execution_count": 5,
   "metadata": {},
   "outputs": [
    {
     "ename": "NameError",
     "evalue": "name 'os' is not defined",
     "output_type": "error",
     "traceback": [
      "\u001b[1;31m---------------------------------------------------------------------------\u001b[0m",
      "\u001b[1;31mNameError\u001b[0m                                 Traceback (most recent call last)",
      "Cell \u001b[1;32mIn[5], line 1\u001b[0m\n\u001b[1;32m----> 1\u001b[0m selected_file_path, selected_filename \u001b[38;5;241m=\u001b[39m \u001b[43mselect_file\u001b[49m\u001b[43m(\u001b[49m\u001b[43m)\u001b[49m\n\u001b[0;32m      2\u001b[0m \u001b[38;5;28;01mif\u001b[39;00m selected_file_path:\n\u001b[0;32m      3\u001b[0m     \u001b[38;5;28mprint\u001b[39m(\u001b[38;5;124mf\u001b[39m\u001b[38;5;124m\"\u001b[39m\u001b[38;5;124mYou selected: \u001b[39m\u001b[38;5;132;01m{\u001b[39;00mselected_file_path\u001b[38;5;132;01m}\u001b[39;00m\u001b[38;5;124m\"\u001b[39m)\n",
      "Cell \u001b[1;32mIn[4], line 12\u001b[0m, in \u001b[0;36mselect_file\u001b[1;34m()\u001b[0m\n\u001b[0;32m      9\u001b[0m file_path \u001b[38;5;241m=\u001b[39m filedialog\u001b[38;5;241m.\u001b[39maskopenfilename()\n\u001b[0;32m     10\u001b[0m \u001b[38;5;28;01mif\u001b[39;00m file_path:\n\u001b[0;32m     11\u001b[0m     \u001b[38;5;66;03m# Extract filename from path\u001b[39;00m\n\u001b[1;32m---> 12\u001b[0m     filename \u001b[38;5;241m=\u001b[39m \u001b[43mos\u001b[49m\u001b[38;5;241m.\u001b[39mpath\u001b[38;5;241m.\u001b[39mbasename(file_path)\n\u001b[0;32m     13\u001b[0m     \u001b[38;5;28;01mreturn\u001b[39;00m file_path, filename\n\u001b[0;32m     14\u001b[0m \u001b[38;5;28;01melse\u001b[39;00m:\n",
      "\u001b[1;31mNameError\u001b[0m: name 'os' is not defined"
     ]
    }
   ],
   "source": [
    "selected_file_path, selected_filename = select_file()\n",
    "if selected_file_path:\n",
    "    print(f\"You selected: {selected_file_path}\")\n",
    "    print(f\"Filename: {selected_filename}\")\n",
    "else:\n",
    "    print(\"No file selected.\")"
   ]
  },
  {
   "cell_type": "code",
   "execution_count": 2,
   "metadata": {},
   "outputs": [
    {
     "name": "stdout",
     "output_type": "stream",
     "text": [
      "No file selected.\n"
     ]
    }
   ],
   "source": [
    "import pandas as pd\n",
    "import mysql.connector\n",
    "\n",
    "def upload_csv_to_sql(csv_file, table_name, connection_config):\n",
    "    # Read CSV file into DataFrame\n",
    "    df = pd.read_csv(csv_file)\n",
    "    \n",
    "    # Connect to MySQL server\n",
    "    try:\n",
    "        conn = mysql.connector.connect(**connection_config)\n",
    "        cursor = conn.cursor()\n",
    "\n",
    "        # Check if the table already exists\n",
    "        cursor.execute(f\"SHOW TABLES LIKE '{table_name}'\")\n",
    "        table_exists = cursor.fetchone()\n",
    "\n",
    "        # If the table doesn't exist, create it\n",
    "        if not table_exists:\n",
    "            # Create table with columns based on DataFrame columns\n",
    "            columns = ', '.join(f\"{col} VARCHAR(255)\" for col in df.columns)\n",
    "            create_table_query = f\"CREATE TABLE {table_name} ({columns})\"\n",
    "            cursor.execute(create_table_query)\n",
    "            print(f\"Created table '{table_name}'.\")\n",
    "\n",
    "        # Insert data into the table\n",
    "        for _, row in df.iterrows():\n",
    "            values = ', '.join(f\"'{value}'\" for value in row.values)\n",
    "            insert_query = f\"INSERT INTO {table_name} VALUES ({values})\"\n",
    "            cursor.execute(insert_query)\n",
    "\n",
    "        conn.commit()\n",
    "        print(f\"Appended data from '{csv_file}' to '{table_name}'.\")\n",
    "\n",
    "    except mysql.connector.Error as e:\n",
    "        print(\"Error occurred while uploading data to MySQL:\", e)\n",
    "\n",
    "    finally:\n",
    "        if 'conn' in locals() and conn.is_connected():\n",
    "            cursor.close()\n",
    "            conn.close()\n",
    "\n",
    "if __name__ == \"__main__\":\n",
    "    \n",
    "    selected_file_path = select_file()\n",
    "    if selected_file_path:\n",
    "        print(f\"You selected: {selected_file_path}\")\n",
    "    else:\n",
    "        print(\"No file selected.\")\n",
    "\n",
    "    csv_file = selected_file_path\n",
    "    table_name = input(\"Enter the name of the SQL table: \")\n",
    "    host = input(\"Enter the host (default is 'localhost'): \") or \"localhost\"\n",
    "    port = input(\"Enter the port (default is '3306'): \") or \"3306\"\n",
    "    user = input(\"Enter the user: \")\n",
    "    password = input(\"Enter the password: \")\n",
    "    database = input(\"Enter the database name: \")\n",
    "\n",
    "    # Define connection configuration\n",
    "    connection_config = {\n",
    "        'host': host,\n",
    "        'port': port,\n",
    "        'user': user,\n",
    "        'password': password,\n",
    "        'database': database\n",
    "    }\n",
    "\n",
    "    # Upload CSV to SQL table\n",
    "    upload_csv_to_sql(csv_file, table_name, connection_config)\n"
   ]
  }
 ],
 "metadata": {
  "kernelspec": {
   "display_name": "Python 3",
   "language": "python",
   "name": "python3"
  },
  "language_info": {
   "codemirror_mode": {
    "name": "ipython",
    "version": 3
   },
   "file_extension": ".py",
   "mimetype": "text/x-python",
   "name": "python",
   "nbconvert_exporter": "python",
   "pygments_lexer": "ipython3",
   "version": "3.10.11"
  }
 },
 "nbformat": 4,
 "nbformat_minor": 2
}
