{
 "cells": [
  {
   "cell_type": "code",
   "execution_count": 1,
   "metadata": {},
   "outputs": [
    {
     "name": "stdout",
     "output_type": "stream",
     "text": [
      "You selected: C:/Users/khang/Documents/GitHub/solo_projects/MockPatient/patient_data.csv\n"
     ]
    }
   ],
   "source": [
    "import tkinter as tk\n",
    "from tkinter import filedialog\n",
    "\n",
    "def select_file():\n",
    "    #Opens a file selection dialog and returns the selected file path.\n",
    "\n",
    "    root = tk.Tk()\n",
    "    root.withdraw()  # Hide the main window\n",
    "    file_path = filedialog.askopenfilename()\n",
    "\n",
    "    return file_path"
   ]
  },
  {
   "cell_type": "code",
   "execution_count": null,
   "metadata": {},
   "outputs": [],
   "source": [
    "import pandas as pd\n",
    "import mysql.connector\n",
    "\n",
    "def upload_csv_to_sql(csv_file, table_name, connection_config):\n",
    "    # Read CSV file into DataFrame\n",
    "    df = pd.read_csv(csv_file)\n",
    "    \n",
    "    # Connect to MySQL server\n",
    "    try:\n",
    "        conn = mysql.connector.connect(**connection_config)\n",
    "        cursor = conn.cursor()\n",
    "\n",
    "        # Check if the table already exists\n",
    "        cursor.execute(f\"SHOW TABLES LIKE '{table_name}'\")\n",
    "        table_exists = cursor.fetchone()\n",
    "\n",
    "        # If the table doesn't exist, create it\n",
    "        if not table_exists:\n",
    "            # Create table with columns based on DataFrame columns\n",
    "            columns = ', '.join(f\"{col} VARCHAR(255)\" for col in df.columns)\n",
    "            create_table_query = f\"CREATE TABLE {table_name} ({columns})\"\n",
    "            cursor.execute(create_table_query)\n",
    "            print(f\"Created table '{table_name}'.\")\n",
    "\n",
    "        # Insert data into the table\n",
    "        for _, row in df.iterrows():\n",
    "            values = ', '.join(f\"'{value}'\" for value in row.values)\n",
    "            insert_query = f\"INSERT INTO {table_name} VALUES ({values})\"\n",
    "            cursor.execute(insert_query)\n",
    "\n",
    "        conn.commit()\n",
    "        print(f\"Appended data from '{csv_file}' to '{table_name}'.\")\n",
    "\n",
    "    except mysql.connector.Error as e:\n",
    "        print(\"Error occurred while uploading data to MySQL:\", e)\n",
    "\n",
    "    finally:\n",
    "        if 'conn' in locals() and conn.is_connected():\n",
    "            cursor.close()\n",
    "            conn.close()\n",
    "\n",
    "if __name__ == \"__main__\":\n",
    "    \n",
    "    selected_file_path = select_file()\n",
    "    if selected_file_path:\n",
    "        print(f\"You selected: {selected_file_path}\")\n",
    "    else:\n",
    "        print(\"No file selected.\")\n",
    "\n",
    "    csv_file = selected_file_path\n",
    "    table_name = input(\"Enter the name of the SQL table: \")\n",
    "    host = input(\"Enter the host (default is 'localhost'): \") or \"localhost\"\n",
    "    port = input(\"Enter the port (default is '3306'): \") or \"3306\"\n",
    "    user = input(\"Enter the user: \")\n",
    "    password = input(\"Enter the password: \")\n",
    "    database = input(\"Enter the database name: \")\n",
    "\n",
    "    # Define connection configuration\n",
    "    connection_config = {\n",
    "        'host': host,\n",
    "        'port': port,\n",
    "        'user': user,\n",
    "        'password': password,\n",
    "        'database': database\n",
    "    }\n",
    "\n",
    "    # Upload CSV to SQL table\n",
    "    upload_csv_to_sql(csv_file, table_name, connection_config)\n"
   ]
  }
 ],
 "metadata": {
  "kernelspec": {
   "display_name": "Python 3",
   "language": "python",
   "name": "python3"
  },
  "language_info": {
   "codemirror_mode": {
    "name": "ipython",
    "version": 3
   },
   "file_extension": ".py",
   "mimetype": "text/x-python",
   "name": "python",
   "nbconvert_exporter": "python",
   "pygments_lexer": "ipython3",
   "version": "3.10.11"
  }
 },
 "nbformat": 4,
 "nbformat_minor": 2
}
