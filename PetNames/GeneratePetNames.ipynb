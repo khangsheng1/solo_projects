{
 "cells": [
  {
   "cell_type": "code",
   "execution_count": 6,
   "metadata": {},
   "outputs": [
    {
     "name": "stdout",
     "output_type": "stream",
     "text": [
      "Generated pet names saved to C:\\Users\\khang\\Documents\\GitHub\\solo_projects\\PetNames\\pet_names.csv.\n"
     ]
    }
   ],
   "source": [
    "from faker import Faker\n",
    "import random\n",
    "import pandas as pd\n",
    "import os\n",
    "\n",
    "fake = Faker()\n",
    "\n",
    "def generate_pet_name(num_names):\n",
    "    pet_names = []\n",
    "    for i in range(1, num_names+1):\n",
    "        name = fake.first_name()  # Generate a random first name\n",
    "        pet_names.append((i, name))\n",
    "    return pet_names\n",
    "\n",
    "if __name__ == \"__main__\":\n",
    "    num_names = int(input(\"How many fake pet names do you want to generate? \"))\n",
    "    \n",
    "    folder_path = r'C:\\Users\\khang\\Documents\\GitHub\\solo_projects\\PetNames'\n",
    "    #Use this input(\"Enter the folder path where you want to save the CSV file: \")\n",
    "    #if you want to define where to save it yourself\n",
    "    \n",
    "    # Check if the folder exists, if not, create it\n",
    "    if not os.path.exists(folder_path):\n",
    "        os.makedirs(folder_path)\n",
    "    \n",
    "    pet_names = generate_pet_name(num_names)\n",
    "    \n",
    "    # Create a DataFrame with columns \"number\" and \"petname\"\n",
    "    df = pd.DataFrame(pet_names, columns=['number', 'petname'])\n",
    "    \n",
    "    # Save DataFrame to a CSV file\n",
    "    file_path = os.path.join(folder_path, 'pet_names.csv')\n",
    "    df.to_csv(file_path, index=False)\n",
    "    \n",
    "    print(f\"Generated pet names saved to {file_path}.\")\n"
   ]
  }
 ],
 "metadata": {
  "kernelspec": {
   "display_name": "Python 3",
   "language": "python",
   "name": "python3"
  },
  "language_info": {
   "codemirror_mode": {
    "name": "ipython",
    "version": 3
   },
   "file_extension": ".py",
   "mimetype": "text/x-python",
   "name": "python",
   "nbconvert_exporter": "python",
   "pygments_lexer": "ipython3",
   "version": "3.10.11"
  }
 },
 "nbformat": 4,
 "nbformat_minor": 2
}
